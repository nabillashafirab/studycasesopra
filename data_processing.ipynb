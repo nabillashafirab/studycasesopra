{
 "cells": [
  {
   "cell_type": "markdown",
   "id": "0817177e",
   "metadata": {},
   "source": [
    "# Library Initiation"
   ]
  },
  {
   "cell_type": "code",
   "execution_count": null,
   "id": "8d7614f7",
   "metadata": {},
   "outputs": [],
   "source": [
    "import pandas as pd\n",
    "\n",
    "# Import CSV files from the same folder\n",
    "data_pelanggan = pd.read_csv(\"data_pelanggan.csv\")\n",
    "data_produk = pd.read_csv(\"data_produk.csv\")\n",
    "data_transaksi = pd.read_csv(\"data_transaksi.csv\")"
   ]
  },
  {
   "cell_type": "markdown",
   "id": "e9c2275e",
   "metadata": {},
   "source": [
    "# Data Preparation\n",
    "\n",
    "## Data Pelanggan"
   ]
  },
  {
   "cell_type": "code",
   "execution_count": null,
   "id": "408f5bc2",
   "metadata": {},
   "outputs": [],
   "source": [
    "print(\"Data Pelanggan:\")\n",
    "print(data_pelanggan.head(), \"\\n\")"
   ]
  }
 ],
 "metadata": {
  "language_info": {
   "name": "python"
  }
 },
 "nbformat": 4,
 "nbformat_minor": 5
}
